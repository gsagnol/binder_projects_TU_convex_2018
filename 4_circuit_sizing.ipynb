{
 "cells": [
  {
   "cell_type": "markdown",
   "metadata": {},
   "source": [
    "We want to optimize the digital circuit depicted below, where each small box with a number represents a gate realizing\n",
    " a logical operation."
   ]
  },
  {
   "cell_type": "markdown",
   "metadata": {},
   "source": [
    "![title](img/circuit.png) "
   ]
  },
  {
   "cell_type": "markdown",
   "metadata": {},
   "source": [
    "Each gate has a nominal area $A_i$ and we must optimize some scaling factors $x_i\\geq 1$, which affect\n",
    " the total area $A=\\sum_i x_i A_i$ of the circuit, as well as its delay and power consumption. The\n",
    " power consumption is an affine function $P=P_0+\\sum_i x_i P_i$ of the scaling factors, and we admit that\n",
    " the delay of gate $i$ can be modelled by\n",
    " $$D_i(\\boldsymbol{x}) = \\left\\{\\begin{array}{ll}\n",
    " \\frac{\\gamma_i}{x_i}\\ C_i^{out} & \\textrm{ if $i$ is an output gate}\\\\\n",
    "  \\frac{\\gamma_i}{x_i}\\sum_{j\\in\\delta^+(i)} (\\alpha_j+\\beta_j x_j) & \\textrm{ otherwise.}\n",
    "                     \\end{array}\n",
    "\\right.\n",
    ",$$\n",
    " where the $C_i^{out},\\alpha_i,\\beta_i,\\gamma_i$'s are positive physical constants of the gates,\n",
    " and $\\delta_+(i)$ is the set of successors of $i$. The delay of the circuit is the maximum\n",
    " delay over all paths from the input to the output layer, and the delay of a path is simply the sum of delays of the gates on this path.\n",
    " \n",
    "The goal of this exercise is to formulate the problem of minimizing the delay of the circuit depicted above, subject to $A\\leq A^{\\rm max}, P\\leq P^{\\rm max},$ as a GP (in posynomial form), and to solve its convex log-sum-exp reformulation."
   ]
  },
  {
   "cell_type": "markdown",
   "metadata": {},
   "source": [
    "Let us first import the necessary packages and generate some data for this problem:"
   ]
  },
  {
   "cell_type": "code",
   "execution_count": null,
   "metadata": {
    "collapsed": true
   },
   "outputs": [],
   "source": [
    "import picos\n",
    "import networkx as nx\n",
    "import numpy as np"
   ]
  },
  {
   "cell_type": "code",
   "execution_count": null,
   "metadata": {
    "collapsed": true
   },
   "outputs": [],
   "source": [
    "#This is the circuit's graph. Nodes are indexed starting from 0. We add a dummy node called 'out' for the output.\n",
    "G = nx.DiGraph()\n",
    "G.add_edges_from([(0,3),(1,3),(1,4),(2,3),(2,4),(3,5),(3,6),(4,6),(5,'out'),(6,'out')])\n",
    "n = G.number_of_nodes() - 1\n",
    "#output gates\n",
    "T=[5,6]\n",
    "\n",
    "\n",
    "#Generate some constants \n",
    "#NB: some of them are not used, such as C_out[i] for non-output gates\n",
    "np.random.seed(42)\n",
    "alpha = np.random.rand(n)\n",
    "beta = np.random.rand(n)\n",
    "gamma = np.random.rand(n)\n",
    "AA = np.random.rand(n)\n",
    "PP = np.random.rand(n)\n",
    "P0 = np.random.rand()\n",
    "C_out = 5 * np.random.rand(n)"
   ]
  },
  {
   "cell_type": "markdown",
   "metadata": {},
   "source": [
    "Now, we write a function that calculates the delay of the circuit"
   ]
  },
  {
   "cell_type": "code",
   "execution_count": null,
   "metadata": {
    "collapsed": true
   },
   "outputs": [],
   "source": [
    "def delay_gate(x,i):\n",
    "    S = 0.\n",
    "    for j in G.successors(i):\n",
    "        if j=='out':\n",
    "            S += C_out[i]\n",
    "        else:\n",
    "            S += alpha[j]+beta[j]*x[j]\n",
    "    \n",
    "    return gamma[i]/x[i] * S\n",
    "        \n",
    "def total_delay(x):\n",
    "    for e1,e2 in G.edges():\n",
    "        G[e1][e2]['weight'] = delay_gate(x,e1)\n",
    "    return nx.dag_longest_path_length(G)"
   ]
  },
  {
   "cell_type": "markdown",
   "metadata": {},
   "source": [
    "We generate a random solution $x_0 \\geq 1$, and define $Amax$ and $Pmax$ accordingly"
   ]
  },
  {
   "cell_type": "code",
   "execution_count": null,
   "metadata": {
    "collapsed": false
   },
   "outputs": [],
   "source": [
    "x0 = np.exp(2 * np.random.rand(n))\n",
    "Amax = x0.dot(AA)\n",
    "Pmax = P0 + x0.dot(PP)\n",
    "\n",
    "\n",
    "print 'x:\\n',x0\n",
    "print 'Area of this solution: Amax=',Amax\n",
    "print 'Power consumption of this solution: Pmax=',Pmax\n",
    "print 'Delay of this solution: D(x)=',total_delay(x0)"
   ]
  },
  {
   "cell_type": "markdown",
   "metadata": {},
   "source": [
    "Let $\\delta_i$ be a variable for the delay $D_i(x)$ at gate $i\\in[n]$, and let $\\zeta_i$ be a variable for the total delay between the input and the (entrance) of gate $i\\in[n]$. In addition, let $\\tau$ be a variable for the total delay of the circuit. In the cell below, we write the inequalities that the $\\delta_i$'s, $\\zeta_i$'s, and $\\tau$ must satisfy (it is enough to give lower bounds on the $\\delta_i's$, $\\zeta_i$'s,and $\\tau$, since we want to *minimize* these variables). "
   ]
  },
  {
   "cell_type": "markdown",
   "metadata": {},
   "source": [
    "For a non-output gate, this variable must satisfy the posynomial constraint\n",
    "$$\n",
    "\\delta_i \\geq  \\frac{\\gamma_i}{x_i}\\sum_{j\\in\\delta^+(i)} (\\alpha_j+\\beta_j x_j)\n",
    "$$\n",
    "and for a output gate $i$ it holds\n",
    "$$\n",
    "\\delta_i \\geq  \\frac{\\gamma_i}{x_i}C_i^{out}.\n",
    "$$\n",
    "\n",
    "The variables $\\zeta_i\\geq 0$ clearly satisfy\n",
    "$$\n",
    "\\zeta_i \\geq \\max_{j\\in\\delta^-(i)}\\ \\zeta_j + \\delta _j,\\quad \\forall i\\in[n].\n",
    "$$\n",
    "\n",
    "Finaly, the total delay is the maximum of the delays at output gates:\n",
    "$$\n",
    "\\tau \\geq \\max_{j\\in T}\\ \\zeta_j + \\delta _j.\n",
    "$$"
   ]
  },
  {
   "cell_type": "markdown",
   "metadata": {},
   "source": [
    "<span style=\"color:blue\">\n",
    "Reformulate the above constraints in posynomial form, i.e., each constraint must be formulated as $f(x)\\leq 1$ for some posynomial $f$.\n",
    "</span>"
   ]
  },
  {
   "cell_type": "markdown",
   "metadata": {},
   "source": [
    "Delay at a non-output gate:\n",
    "$$\n",
    "(...) \\leq 1,\\quad \\forall i \\notin T.\n",
    "$$\n",
    "\n",
    "Delay at output gate:\n",
    "$$\n",
    "(...) \\leq 1,\\quad \\forall i \\in T.\n",
    "$$\n",
    "\n",
    "Delay between input and node $i$:\n",
    "$$\n",
    "(...) \\leq 1,\\quad \\forall i\\in[n],\\forall j \\in \\delta^-(i).\n",
    "$$\n",
    "Total delay:\n",
    "$$\n",
    "(...) \\leq 1,\\quad \\forall j \\in T.\n",
    "$$"
   ]
  },
  {
   "cell_type": "markdown",
   "metadata": {},
   "source": [
    "<span style=\"color:blue\">    \n",
    "Perform the changes of variable $\\delta_i=e^{d_i}$, $\\zeta_i=e^{z_i}$, $x_i=e^{y_i}$, and $\\tau=e^t$, and rewrite the above inequalities in log-sum-exp form, as well as the area and power consumption constraints. \n",
    "</span>"
   ]
  },
  {
   "cell_type": "markdown",
   "metadata": {},
   "source": [
    "Delay at a non-output gate:\n",
    "$$\n",
    "\\log(...) \\leq  0,\\quad \\forall i\\notin T.\n",
    "$$\n",
    "\n",
    "Delay at output gate:\n",
    "Since it is a monomial, after the change of variable we get a linear constraint:\n",
    "$$\n",
    "(...)\n",
    "$$\n",
    "\n",
    "Delay between input and node $i$:\n",
    "$$\n",
    "\\log(...)\\leq 0,\\quad \\forall j \\in \\delta^-(i).\n",
    "$$\n",
    "Total delay:\n",
    "$$\n",
    "\\log(...)\\leq 0,\\quad \\forall j \\in T.\n",
    "$$\n",
    "\n",
    "After the change of variables, the power consumption constraint $P_0 + \\sum_i x_i P_i\\leq P_{max}$\n",
    "becomes\n",
    "$$\n",
    "\\log(...) \\leq 0.\n",
    "$$\n",
    "Similarly, the area constraint is\n",
    "$$\n",
    "\\log(...) \\leq 0.\n",
    "$$\n"
   ]
  },
  {
   "cell_type": "markdown",
   "metadata": {},
   "source": [
    "<span style=\"color:blue\">    \n",
    "So, the problem of minimizing the delay can be formulated as minimizing $t$ subject to the above constraints, and the nonnegativity of the $y_i$'s (because x_i\\geq 1). Formulate this problem using picos. \n",
    "</span>\n",
    "\n",
    "<span style=\"color:blue\">    \n",
    "*Hint*: If the z_i's are some variables, the simplest to enter a log-sum-exp constraint of the form\n",
    "    $log(\\sum_{j=0}^{n-1} e^{z_i-z_j})\\leq 0$ in picos (this is a dummy example) is to write\n",
    "    ``P.add_constraint(picos.log(sum([picos.exp(z[i]-z[j]) for j in range(n)]))<=0)``. To take the logarithm of a\n",
    "    **constant** (such as $\\gamma_i$), you can write ``np.log(gamma[i])``.\n",
    "    \n",
    "    \n",
    "</span>"
   ]
  },
  {
   "cell_type": "code",
   "execution_count": null,
   "metadata": {
    "collapsed": false
   },
   "outputs": [],
   "source": [
    "#non-output nodes:\n",
    "NT = [i for i in range(n) if i not in T]\n",
    "\n",
    "#create the problem\n",
    "P = picos.Problem()\n",
    "\n",
    "#define the decision variables\n",
    "d = P.add_variable('d',n)\n",
    "y = P.add_variable('y',n)\n",
    "z = P.add_variable('z',n)\n",
    "t = P.add_variable('t',1)\n",
    "\n",
    "#add the constraints\n",
    "#TODO(...)\n",
    "\n",
    "#Define the objective function\n",
    "#TODO (...)\n",
    "\n",
    "#solve the problem\n",
    "sol = P.solve()"
   ]
  },
  {
   "cell_type": "markdown",
   "metadata": {},
   "source": [
    "<span style=\"color:blue\">   \n",
    "If you have implemented the exponential cone program correctly, executing the next cell will display statistics of the optimal solution. In particular, you should check that the delay of the optimal solution (as computed with the function ``total_delay()`` coincides with the exponential of the objective value of the problem).\n",
    "</span>"
   ]
  },
  {
   "cell_type": "code",
   "execution_count": null,
   "metadata": {
    "collapsed": false
   },
   "outputs": [],
   "source": [
    "#retrieve scaling factor by taking the exponential of the optimal `y`\n",
    "x = np.exp(y.value).ravel()\n",
    "\n",
    "print 'x:\\n',x\n",
    "print 'Area of this solution: A=', AA.dot(x),'<=',Amax\n",
    "print 'Power consumption of this solution: P=', P0 + PP.dot(x),'<=',Pmax\n",
    "print 'Delay of this solution: D(x)=',total_delay(x)\n",
    "print 'exp of objective value of the problem=',np.exp(P.obj_value())\n",
    "print 'improvement of delay with respect to initial solution x_0:', 100 * (1-total_delay(x)/total_delay(x0)),'%'\n"
   ]
  }
 ],
 "metadata": {
  "kernelspec": {
   "display_name": "Python 2",
   "language": "python",
   "name": "python2"
  },
  "language_info": {
   "codemirror_mode": {
    "name": "ipython",
    "version": 2
   },
   "file_extension": ".py",
   "mimetype": "text/x-python",
   "name": "python",
   "nbconvert_exporter": "python",
   "pygments_lexer": "ipython2",
   "version": "2.7.13"
  }
 },
 "nbformat": 4,
 "nbformat_minor": 2
}
