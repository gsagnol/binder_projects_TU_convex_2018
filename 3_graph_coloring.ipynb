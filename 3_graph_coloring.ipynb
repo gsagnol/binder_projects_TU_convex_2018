{
 "cells": [
  {
   "cell_type": "code",
   "execution_count": null,
   "metadata": {
    "collapsed": false
   },
   "outputs": [],
   "source": [
    "import networkx as nx\n",
    "import picos\n",
    "%matplotlib inline\n",
    "import matplotlib\n",
    "import matplotlib.pyplot as plt\n",
    "import numpy as np\n",
    "import cvxopt as cvx\n",
    "matplotlib.rcParams['figure.figsize'] = (10, 10)"
   ]
  },
  {
   "cell_type": "markdown",
   "metadata": {},
   "source": [
    "The goal of this Project is to use SDP to obtain a certficate that the coloring of a graph is optimal"
   ]
  },
  {
   "cell_type": "markdown",
   "metadata": {},
   "source": [
    "We first generate a graph:"
   ]
  },
  {
   "cell_type": "code",
   "execution_count": null,
   "metadata": {
    "collapsed": false
   },
   "outputs": [],
   "source": [
    "n=36\n",
    "p=0.675\n",
    "G = nx.random_graphs.erdos_renyi_graph(n,p,seed=598380)\n",
    "pos = nx.spring_layout(G,iterations=10)\n",
    "nx.draw(G,pos)\n",
    "print G.edges()"
   ]
  },
  {
   "cell_type": "markdown",
   "metadata": {},
   "source": [
    "Now, we assume that we have used our favorite Metaheuristic to find a 10-coloring of $G$.\n",
    "We check that this is a coloring indeed, and we display it:"
   ]
  },
  {
   "cell_type": "code",
   "execution_count": null,
   "metadata": {
    "collapsed": false
   },
   "outputs": [],
   "source": [
    "cols = [[0,19,26,30], #nodes assigned to color 0\n",
    "        [1,14,35],    #nodes assigned to color 1\n",
    "        [2,3,5,21],   #nodes assigned to color 2\n",
    "        [6,25,32,34], #etc.\n",
    "        [8,11,33],\n",
    "        [7,9,20,22],\n",
    "        [10,12,16,31],\n",
    "        [4,23,29],\n",
    "        [13,17,27,28],\n",
    "        [15,18,24]]   #nodes assigned to color 9\n",
    "color  = {}\n",
    "for i,ci in enumerate(cols):\n",
    "    for node in ci:\n",
    "        color[node] = i\n",
    "\n",
    "nx.draw(G,pos,nodelist=range(n),node_color=[color[i] for i in range(n)])\n",
    "\n",
    "#check that this is a coloring of the graph indeed:\n",
    "coloring = True\n",
    "for i,j in G.edges():\n",
    "    if color[i]==color[j]:\n",
    "        coloring = False\n",
    "        print 'This was not a coloring !'\n",
    "        print i,j\n",
    "\n",
    "if coloring:\n",
    "        n_colors = len(cols)\n",
    "        print 'We have a coloring with {0} colors'.format(n_colors)"
   ]
  },
  {
   "cell_type": "markdown",
   "metadata": {},
   "source": [
    "<span style=\"color:blue\">\n",
    "We know from Lovász' Sandwich theorem that $\\chi(G) \\geq \\vartheta(\\bar{G})$. In the cell below, implement the dual SDP (with Z-variables) to compute the $\\vartheta(\\bar{G})$, and solve this SDP.\n",
    "</span style=\"color:blue\">"
   ]
  },
  {
   "cell_type": "code",
   "execution_count": null,
   "metadata": {
    "collapsed": false
   },
   "outputs": [],
   "source": [
    "#define the identity matrix\n",
    "I = picos.new_param('I',np.identity(n))\n",
    "\n",
    "#initialize the problem\n",
    "P = picos.Problem()\n",
    "\n",
    "#create the optimization variables\n",
    "#TODO\n",
    "\n",
    "#add the constraints\n",
    "#TODO\n",
    "\n",
    "#set the objective function\n",
    "#TODO\n",
    "\n",
    "#solve the problem\n",
    "sol = P.solve()\n",
    "print 'objective_value: ', sol['obj']"
   ]
  },
  {
   "cell_type": "markdown",
   "metadata": {},
   "source": [
    "<span style=\"color:blue\">\n",
    "What bound do you obtain on $\\chi(G)$ ? Is it sufficient to prove that our 10-coloring is optimal ? Give your answer in the following cell.\n",
    "<span style=\"color:blue\">"
   ]
  },
  {
   "cell_type": "markdown",
   "metadata": {},
   "source": [
    "*TODO write your answer here*"
   ]
  },
  {
   "cell_type": "markdown",
   "metadata": {},
   "source": [
    "<span style=\"color:blue\">\n",
    "Now, consider the SDP with the additional constraints \n",
    "$$Z_{ij}\\leq 1\\ (\\forall i,j \\in [n]),$$ and denote its optimal value by $\\vartheta^+$.\n",
    "Explain why $\\vartheta^+$ is a lower bound on $\\chi(G)$, and why this bound is **stronger** than $\\vartheta(\\bar{G})$. Give your answer in the following cell.\n",
    "</span style=\"color:blue\">"
   ]
  },
  {
   "cell_type": "markdown",
   "metadata": {},
   "source": [
    "*TODO write your answer here*"
   ]
  },
  {
   "cell_type": "markdown",
   "metadata": {},
   "source": [
    "<span style=\"color:blue\">\n",
    "Implement the modified SDP to compute $\\vartheta^+$ in the next cell\n",
    "</span style=\"color:blue\">"
   ]
  },
  {
   "cell_type": "code",
   "execution_count": null,
   "metadata": {
    "collapsed": false
   },
   "outputs": [],
   "source": [
    "#define the identity matrix\n",
    "I = picos.new_param('I',np.identity(n))\n",
    "\n",
    "#initialize the problem\n",
    "P = picos.Problem()\n",
    "\n",
    "#create the optimization variables\n",
    "#TODO\n",
    "\n",
    "#add the constraints\n",
    "#TODO\n",
    "\n",
    "#set the objective function\n",
    "#TODO\n",
    "\n",
    "#solve the problem\n",
    "sol = P.solve()\n",
    "print 'objective_value: ', sol['obj']"
   ]
  },
  {
   "cell_type": "markdown",
   "metadata": {},
   "source": [
    "<span style=\"color:blue\">\n",
    "Which bound do you obtain now on $\\chi(G)$? Does this prove that our 10-coloring is optimal?\n",
    "</span style=\"color:blue\">"
   ]
  },
  {
   "cell_type": "markdown",
   "metadata": {},
   "source": [
    "*TODO write your answer here*"
   ]
  }
 ],
 "metadata": {
  "kernelspec": {
   "display_name": "Python 2",
   "language": "python",
   "name": "python2"
  },
  "language_info": {
   "codemirror_mode": {
    "name": "ipython",
    "version": 2
   },
   "file_extension": ".py",
   "mimetype": "text/x-python",
   "name": "python",
   "nbconvert_exporter": "python",
   "pygments_lexer": "ipython2",
   "version": "2.7.13"
  }
 },
 "nbformat": 4,
 "nbformat_minor": 2
}
