{
 "cells": [
  {
   "cell_type": "markdown",
   "metadata": {},
   "source": [
    "Import package, data, vizualisation functions"
   ]
  },
  {
   "cell_type": "code",
   "execution_count": null,
   "metadata": {
    "collapsed": true
   },
   "outputs": [],
   "source": [
    "import numpy as np\n",
    "import cvxopt as cvx\n",
    "import picos\n",
    "import itertools\n",
    "import matplotlib\n",
    "import matplotlib.pyplot as plt\n",
    "from matplotlib.patches import Ellipse\n",
    "%matplotlib inline \n",
    "matplotlib.rcParams['figure.figsize'] = (10, 10)"
   ]
  },
  {
   "cell_type": "code",
   "execution_count": null,
   "metadata": {
    "collapsed": false
   },
   "outputs": [],
   "source": [
    "A = cvx.matrix([[-4,-1],[-1,-2],[-2,1],[-1,-6],[1,2],[6,-2],[0,1]]).T\n",
    "b = cvx.matrix([-9,-4,0,-6,11,17,4])\n",
    "\n",
    "print 'A\\n',A\n",
    "print 'b\\n',b"
   ]
  },
  {
   "cell_type": "code",
   "execution_count": null,
   "metadata": {
    "collapsed": true
   },
   "outputs": [],
   "source": [
    "def remove_midpoints(ext):\n",
    "    eps = 1e-10\n",
    "    n,m = ext.shape\n",
    "    IJK = []\n",
    "    for i,j,k in itertools.permutations(range(n),3):\n",
    "        u = ext[j]-ext[i]\n",
    "        v = ext[k]-ext[i]\n",
    "        if u.dot(v)+np.linalg.norm(u)*np.linalg.norm(v)<=eps:\n",
    "            IJK.append(i)\n",
    "    return ext[list(set(range(n))-set(IJK))]\n",
    "\n",
    "def ext_points(A,b):\n",
    "    A_np = np.array(A)\n",
    "    eps = 1e-10\n",
    "    b_np = np.array(b)\n",
    "    n,m = A_np.shape\n",
    "    ext = []\n",
    "    for I in itertools.combinations(range(n),m):\n",
    "        xI = np.linalg.lstsq(A_np[list(I)],b_np[list(I)],rcond=-1)[0]\n",
    "        if max(A_np.dot(xI)-b_np)<=eps:\n",
    "            if not(ext) or min([np.linalg.norm(e.ravel()-xI.ravel()) for e in ext])>eps:\n",
    "                ext.append(xI.ravel())\n",
    "    ext = np.array(ext)\n",
    "    return remove_midpoints(ext)\n",
    "\n",
    "def facets(A,b,order=2):\n",
    "    ext = ext_points(A,b)\n",
    "    n,m = ext.shape\n",
    "    A_np = np.array(A)\n",
    "    b_np = np.array(b)\n",
    "    eps = 1e-10\n",
    "    F = []\n",
    "    for I in itertools.combinations(range(n),order):\n",
    "        if max(A_np.dot(ext[list(I)].T.dot([1./order]*order))-b_np.ravel())>=-eps:\n",
    "            F.append(ext[list(I)]) \n",
    "    return F\n",
    "\n",
    "def draw_poly(A,b,xc=None,r=None):\n",
    "    assert A.size[1]==2 #we only handle 2D-plots\n",
    "    \n",
    "    ext = ext_points(A,b)\n",
    "    F = facets(A,b)\n",
    "    plt.scatter(ext[:,0],ext[:,1])\n",
    "    for Fi in F:\n",
    "        plt.plot(Fi[:,0],Fi[:,1],'r')\n",
    "       \n",
    "    ax = plt.gca()\n",
    "    ax.set_xlim(0.5,4.5)\n",
    "    ax.set_ylim(0.5,4.5)\n",
    "        \n",
    "def draw_ball(x0,r):\n",
    "    \"\"\"\n",
    "    Draw the ball of radius x0 and radius r\n",
    "    \"\"\"\n",
    "    ax = plt.gca()\n",
    "    if hasattr(r,'__iter__'):#r is a sequence (normally, of length 1)\n",
    "        r = r[0]\n",
    "    assert len(x0)==2 #we only handle 2D-plots\n",
    "    ax.add_artist(plt.Circle(x0,r))\n",
    "    \n",
    "def draw_ellipse(Q,x0):\n",
    "    \"\"\"\n",
    "    Draw the ellipse {Qu+x0: |u|<=1}\n",
    "    \"\"\"\n",
    "    lb,U = np.linalg.eigh(Q.dot(Q.T)) #eigen-decomposition of QQ'\n",
    "    if lb[0]>lb[1]:\n",
    "        umax = U[:,0]\n",
    "        lmax = lb[0]\n",
    "        umin = U[:,1]\n",
    "        lmin = lb[1]\n",
    "    else:\n",
    "        umax = U[:,1]\n",
    "        lmax = lb[1]\n",
    "        umin = U[:,0]\n",
    "        lmin = lb[0]\n",
    "    if umax[1]>0:\n",
    "        angle = np.arccos(umax[0])*180./np.pi\n",
    "    else:\n",
    "        angle = 360. - np.arccos(umax[0])*180./np.pi\n",
    "\n",
    "    e = Ellipse(xy=x0,width=2*lmax**0.5,height=2*lmin**0.5,angle=angle)\n",
    "    e.set_facecolor('yellow')\n",
    "    ax = plt.gca()\n",
    "    ax.add_artist(e)\n",
    "    \n",
    "    "
   ]
  },
  {
   "cell_type": "markdown",
   "metadata": {},
   "source": [
    "Let us visualize the polyhedron $P$ defined by the set of inequalities $Ax\\leq b$. \n",
    "\n",
    "We draw the ball of center $x_0=[2.5,2]^T$ and radius $r$1, which clearly isn't contained in $P$.\n",
    "\n",
    "Then, we draw the ellipse $\\{Qu+x_0: \\|u\\|\\leq 1\\}$, which is contained in $P$, but clearly not of maximal volume.\n"
   ]
  },
  {
   "cell_type": "code",
   "execution_count": null,
   "metadata": {
    "collapsed": false
   },
   "outputs": [],
   "source": [
    "x0 = [2.5,2]\n",
    "r = 1\n",
    "draw_ball(x0,r)\n",
    "draw_poly(A,b)\n",
    "\n",
    "Q = np.array([[0.5,0.2],[0.2,0.3]])\n",
    "draw_ellipse(Q,x0)"
   ]
  },
  {
   "cell_type": "markdown",
   "metadata": {},
   "source": [
    "<span style=\"color:blue\">\n",
    "Now, you have to implement (using picos) the problem of computing the largest ball contained in the polytope $\\mathcal{P}=\\{x: Ax\\leq b\\}$ **as an LP**. The decision variables for this problem are $x_0\\in\\mathbb{R}^n$ (the center of the ball) and $r\\geq 0$ (the radius of the ball). In your code, you will need to access the $i$th row of the matrix $A$. This can be done with ``A[i,:]``.\n",
    "</span style=\"color:blue\">\n",
    "\n",
    "<span style=\"color:blue\">\n",
    "*Hint*: For some $i\\in[m]$, what is the maximum of the linear form $x\\mapsto \\langle a_i, x\\rangle$ over the ball $B(x_0,r)$ ?\n",
    "</span style=\"color:blue\">\n",
    "\n",
    "<span style=\"color:blue\">\n",
    "Give your answer to the *hint*-question in the following cell (with a short justification), and implement the LP in the next one.\n",
    "</span style=\"color:blue\">"
   ]
  },
  {
   "cell_type": "markdown",
   "metadata": {},
   "source": [
    "*TODO write your answer here*"
   ]
  },
  {
   "cell_type": "code",
   "execution_count": null,
   "metadata": {
    "collapsed": true
   },
   "outputs": [],
   "source": [
    "#initialize the problem\n",
    "P = picos.Problem()\n",
    "m,n = A.size\n",
    "\n",
    "#create the decision variables\n",
    "#TODO\n",
    "\n",
    "#add the constraints\n",
    "#TODO\n",
    "\n",
    "#set the objective value\n",
    "#TODO"
   ]
  },
  {
   "cell_type": "markdown",
   "metadata": {},
   "source": [
    "<span style=\"color:blue\">\n",
    "If you implemented the LP correctly, executing the following cell with solve the LP and display the solution.\n",
    "</span style=\"color:blue\">"
   ]
  },
  {
   "cell_type": "code",
   "execution_count": null,
   "metadata": {
    "collapsed": false
   },
   "outputs": [],
   "source": [
    "sol = P.solve()\n",
    "print 'x_0\\n',x0,'r\\n',r\n",
    "draw_ball(x0.value,r.value)\n",
    "draw_poly(A,b)"
   ]
  },
  {
   "cell_type": "markdown",
   "metadata": {},
   "source": [
    "<span style=\"color:blue\">\n",
    "The next exercise is to compute the ellipsoid of largest volume that is contained in our polytope $\\mathcal{P}$. We parametrize this ellipsoid as $E=\\{Q u + x_0: \\|u\\|\\leq 1\\}$, so the decision variables are $Q\\in\\mathbb{S}_n^+$ and $x_0\\in\\mathbb{R}^n$ (you can admit that $Q$ can always be chosen positive semidefinite). \n",
    "</span style=\"color:blue\">\n",
    "\n",
    "<span style=\"color:blue\">\n",
    "As in the previous exercise, compute (in closed-form) the maximum of the linear form  $x\\mapsto \\langle a_i, x \\rangle$ over $E$, and deduce that the inclusion of $E$ in the halfspace $\\{x: a_i^T x \\leq b_i\\}$ can be written as an SOCP constraint (with respect to the variables $Q$ and $x_0$).\n",
    "</span style=\"color:blue\">"
   ]
  },
  {
   "cell_type": "markdown",
   "metadata": {},
   "source": [
    "*TODO write your answer here*"
   ]
  },
  {
   "cell_type": "markdown",
   "metadata": {},
   "source": [
    "<span style=\"color:blue\">\n",
    "In the next cell, write an optimization problem in PICOS to compute the largest volume ellipsoid contained in $\\mathcal{P}$. We recall that the volume of $P$ is a monotonic function of $\\det(Q)$. In picos, maximizing the (semidefinite representable) concave function $\\det^{1/n}(Q)$\n",
    "can be achieved by maximizing an auxiliary variable $t$ subject to the constraint $\\det^{1/n}(Q)\\geq t$:\n",
    "`picos.detrootn(Q)>=t`. To enter an SOCP constraint in PICOS, use the syntax: \n",
    "</span style=\"color:blue\">\n",
    "\n",
    "``abs(<vector affine expression>)<= <scalar affine expression>``"
   ]
  },
  {
   "cell_type": "code",
   "execution_count": null,
   "metadata": {
    "collapsed": true
   },
   "outputs": [],
   "source": [
    "#initialize the problem\n",
    "P = picos.Problem()\n",
    "m,n = A.size\n",
    "\n",
    "#create the decision variables\n",
    "#TODO\n",
    "\n",
    "#add the constraints\n",
    "#TODO\n",
    "\n",
    "#set the objective function\n",
    "#TODO"
   ]
  },
  {
   "cell_type": "markdown",
   "metadata": {},
   "source": [
    "<span style=\"color:blue\">\n",
    "If you implemented the LP correctly, executing the following two cells will solve the SDP and display the solution.\n",
    "</span style=\"color:blue\">"
   ]
  },
  {
   "cell_type": "code",
   "execution_count": null,
   "metadata": {
    "collapsed": false
   },
   "outputs": [],
   "source": [
    "sol = P.solve()\n",
    "print 'Q\\n',Q,'x0\\n',x0"
   ]
  },
  {
   "cell_type": "code",
   "execution_count": null,
   "metadata": {
    "collapsed": false
   },
   "outputs": [],
   "source": [
    "draw_ellipse(np.array(Q.value),x0.value)\n",
    "draw_poly(A,b)"
   ]
  }
 ],
 "metadata": {
  "kernelspec": {
   "display_name": "Python 2",
   "language": "python",
   "name": "python2"
  },
  "language_info": {
   "codemirror_mode": {
    "name": "ipython",
    "version": 2
   },
   "file_extension": ".py",
   "mimetype": "text/x-python",
   "name": "python",
   "nbconvert_exporter": "python",
   "pygments_lexer": "ipython2",
   "version": "2.7.13"
  }
 },
 "nbformat": 4,
 "nbformat_minor": 1
}
