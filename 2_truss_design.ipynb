{
 "cells": [
  {
   "cell_type": "markdown",
   "metadata": {},
   "source": [
    "We consider a two-dimensional truss structures, consisting of $m$ bars connecting $n$ nodes.\n",
    "An external force $F$ is applied to each nodes of the truss, and cause a small displacement $X$ of the nodes. \n",
    "\n",
    "The goal of this exercise is to optimize the width $w_i$'s (or rather, the cross section) of each bar ($i=1,\\ldots,m$),\n",
    "subject to a constraint on the total volume of the structure, in order to minimize the compliance of the truss. The compliance\n",
    "is defined as $C(\\mathbf{w}) = \\langle X, F \\rangle$, and can be interpreted as the amount of elastic energy stored in the truss.\n",
    "\n",
    "We represent $F$ and $X$ by $n \\times 2$ matrices, \n",
    "where $F_{id}$ (or $X_{id}$) represents the value\n",
    "of the force (displacement) at node $i$ along dimension $d$. In other words,\n",
    "the $i$th row of $F$ (or $X$) is the two-dimensional vector of the external force (displacement) at the $i$th node.\n",
    "The displacement of the truss structure is prescribed to be $0$ on some nodes in certain dimensions (because of mechanical links). We denote by \n",
    "\n",
    "$$\\mathcal{S} = \\{(i,d): \\text{node $i$ may move along direction $d$}\\} \\subseteq \n",
    "[n]\\times[2]$$\n",
    "\n",
    "the set of *degrees of freedom* (DoF) of the truss, and we let $k=|\\mathcal{S}|$ denote the number of DoFs. Then, \n",
    "we represent by $\\mathbf{f}=\\{F_{id}\\}_{(i,d)\\in\\mathcal{S}}$ and \n",
    "$\\mathbf{x}=\\{X_{id}\\}_{(i,d)\\in\\mathcal{S}}$ the k-dimensional\n",
    "vectors of force and displacement along the DoFs.\n",
    "\n",
    "The physics tells us that the vector of displacements satisifies\n",
    "$$K(\\mathbf{w})\\ \\mathbf{x} = \\mathbf{f},$$\n",
    "where $K(\\mathbf{w}) = \\sum_{i=1}^m w_i \\mathbf{v}_i \\mathbf{v}_i^T\\in\\mathbb{S}_+^k$, and the vectors $\\mathbf{v}_i \\in \\mathbb{R}^{k}$ depend only on the geometry of the truss.\n",
    "The quantity to minimize is hence\n",
    "$$\n",
    "C(\\mathbf{w}) = \\langle \\mathbf{x}, \\mathbf{f} \\rangle\n",
    "= \\mathbf{f}^T K(\\mathbf{w})^{-1} \\mathbf{f}\n",
    "$$\n",
    "\n",
    "We consider the case of a single constraint on the total volume of the truss,\n",
    "$\\sum_{i} w_i L_i \\leq W$,\n",
    "where $L_i$ denotes the length of the $i$th bar.\n",
    "\n",
    "So, The problem to solve is\n",
    "$$\n",
    "\\underset{\\textbf{w}\\in\\mathbb{R}_+^m}{minimize}\\  \\Big\\{\\ \\mathbf{f}^T K(\\mathbf{w})^{-1} \\mathbf{f}\\qquad s.t. \\quad\n",
    "\\sum_{i} w_i L_i \\leq W \\Big\\}\n",
    "$$"
   ]
  },
  {
   "cell_type": "markdown",
   "metadata": {},
   "source": [
    "#### Import some packages"
   ]
  },
  {
   "cell_type": "code",
   "execution_count": null,
   "metadata": {
    "collapsed": true
   },
   "outputs": [],
   "source": [
    "import numpy as np\n",
    "import cvxopt as cvx\n",
    "import matplotlib\n",
    "import matplotlib.pyplot as plt\n",
    "import picos\n",
    "get_ipython().magic(u'matplotlib inline')\n",
    "matplotlib.rcParams['figure.figsize'] = (4, 4)"
   ]
  },
  {
   "cell_type": "markdown",
   "metadata": {},
   "source": [
    "Below, we define a function that \n",
    "returns the variables `nodes` (coordinate of truss nodes),`bars` (list of pairs of nodes), and `dofs` ({0,1}-array of the same size as `nodes`, which indicates the degrees of freedom of the truss)."
   ]
  },
  {
   "cell_type": "code",
   "execution_count": null,
   "metadata": {
    "collapsed": true
   },
   "outputs": [],
   "source": [
    "def small_structure():\n",
    "    nodes = np.array([\n",
    "    [0,1],#node 0\n",
    "    [1,1],#node 1\n",
    "    [0,0],#node 2\n",
    "    [1,0],#node 3\n",
    "    [2,0],#node 4\n",
    "    ])\n",
    "\n",
    "    dofs = np.array([\n",
    "        [0,0],#node 0 does not move\n",
    "        [1,1],#node 1 is free\n",
    "        [0,1],#node 2 can move vertically\n",
    "        [1,1],#node 3 is free\n",
    "        [1,1],#node 4 is free\n",
    "        ])\n",
    "\n",
    "    bars = [[0,1],\n",
    "            [0,2],\n",
    "            [1,2],\n",
    "            [2,3],\n",
    "            [1,3],\n",
    "            [1,4],\n",
    "            [3,4]]\n",
    "    return nodes,dofs,bars\n"
   ]
  },
  {
   "cell_type": "markdown",
   "metadata": {},
   "source": [
    "Now, we define some physical constants, as well as two functions that\n",
    "return the required constant vectors/matrices required to compute the stiffness matrix $K(\\mathbf{w})$.\n",
    "\n",
    "The function `stiffness_vectors` returns the list of vectors $\\boldsymbol{v}_i$'s such that the stiffness matrix is equal to $\\sum_i w_i \\boldsymbol{v}_i \\boldsymbol{v}_i^ T$, where $w_i$ is the scaling factor of bar $i$.\n",
    "\n",
    "The function `stiffness_matrix(w)` returns the matrix $K(\\mathbf{w}):=\\sum_i w_i \\boldsymbol{v}_i \\boldsymbol{v}_i^ T$."
   ]
  },
  {
   "cell_type": "markdown",
   "metadata": {},
   "source": [
    "#### define some constants"
   ]
  },
  {
   "cell_type": "code",
   "execution_count": null,
   "metadata": {
    "collapsed": true
   },
   "outputs": [],
   "source": [
    "g=9.8     #gravity on earth\n",
    "A0 = 0.01 #unit section of a bar (in m2)\n",
    "D = 450.  #density of the bar (kg/m3)\n",
    "E = 9 #young elasticity modulus (in GPa) --> so u = K^-1 f is in nm"
   ]
  },
  {
   "cell_type": "code",
   "execution_count": null,
   "metadata": {
    "collapsed": true
   },
   "outputs": [],
   "source": [
    "def stiffness_vectors():\n",
    "    v = []\n",
    "    n = len(nodes)\n",
    "    m = len(bars)\n",
    "    d = nodes.shape[1]\n",
    "    dof_mask = np.concatenate(dofs,axis=0)\n",
    "    for k,(i,j) in enumerate(bars):\n",
    "        L = np.linalg.norm(nodes[i]-nodes[j])\n",
    "        angles = (nodes[j]-nodes[i])/L\n",
    "        vk = np.array([0.]*d*n)\n",
    "        vk[d*i:d*(i+1)] = angles\n",
    "        vk[d*j:d*(j+1)] = -angles\n",
    "        vk *= (E*A0/L)**0.5\n",
    "        v.append(cvx.matrix(vk[dof_mask==1]))\n",
    "    return v\n",
    "            \n",
    "def stiffness_matrix(w=None):\n",
    "    n = len(bars)\n",
    "    if w is None:\n",
    "        w=[1]*n\n",
    "    v = stiffness_vectors()\n",
    "    m = len(v[0])\n",
    "    K = cvx.matrix(0,(m,m))\n",
    "    for i in range(n):\n",
    "        K = K + w[i]*v[i]*v[i].T\n",
    "    return K"
   ]
  },
  {
   "cell_type": "markdown",
   "metadata": {},
   "source": [
    "This function draws the truss (defined in global vars `nodes`,`dofs`\n",
    "and `bars`), with optional bar widths `w` (we assume unit widths if `w` is not provided), and if a force vector `f` is provided, the displacement of the structure, amplified by a factor `delta`."
   ]
  },
  {
   "cell_type": "code",
   "execution_count": null,
   "metadata": {
    "collapsed": true
   },
   "outputs": [],
   "source": [
    "def draw_truss(w=None,f=None, delta = 1.):\n",
    "    if w is None:\n",
    "        w=[1]*len(bars)\n",
    "    for k,(i,j) in enumerate(bars):\n",
    "        plt.plot([nodes[i][0],nodes[j][0]],[nodes[i][1],nodes[j][1]],linewidth = 3*w[k],color='blue')\n",
    "    \n",
    "    minx,miny = np.min(nodes,axis=0)\n",
    "    maxx,maxy = np.max(nodes,axis=0)\n",
    "    plt.xlim(minx-0.2,maxx+0.2)\n",
    "    plt.ylim(miny-0.2,maxy+.2)\n",
    "    \n",
    "    if f is not None:\n",
    "        K = stiffness_matrix(w=w)\n",
    "        dof_mask = np.concatenate(dofs,axis=0)\n",
    "        ff = f.ravel()[dof_mask==1] #projection on coordinates of the degrees of freedom\n",
    "        dx = np.zeros(nodes.shape[0]*nodes.shape[1])\n",
    "        dx[dof_mask==1] = np.linalg.lstsq(K,ff,rcond=-1)[0]*1e-9 #1e-9 because E is in GPa\n",
    "        dx= np.reshape(dx,nodes.shape)\n",
    "        dnodes = nodes + delta * dx\n",
    "        for k,(i,j) in enumerate(bars):\n",
    "            plt.plot([dnodes[i][0],dnodes[j][0]],[dnodes[i][1],dnodes[j][1]],linewidth = 3*w[k],color='red')"
   ]
  },
  {
   "cell_type": "markdown",
   "metadata": {},
   "source": [
    "OK, now, let's draw the truss that we defined in the function `small_structure()`."
   ]
  },
  {
   "cell_type": "code",
   "execution_count": null,
   "metadata": {
    "collapsed": false
   },
   "outputs": [],
   "source": [
    "nodes,dofs,bars = small_structure()\n",
    "draw_truss()"
   ]
  },
  {
   "cell_type": "markdown",
   "metadata": {},
   "source": [
    "In the next cell, we draw this truss again (in blue), together with the displacements (in red) caused by a vertical force applied to the 3 bottom nodes:"
   ]
  },
  {
   "cell_type": "code",
   "execution_count": null,
   "metadata": {
    "collapsed": false
   },
   "outputs": [],
   "source": [
    "#we define a force f that puts 500 kg on the 3 nodes below.\n",
    "#note that according to `nodes` and `dofs`, this corresponds to the\n",
    "#3rd, 5th, and 7th degrees of freedom.\n",
    "f = np.array([\n",
    "     [0,0],\n",
    "     [0,0],\n",
    "     [0,-g*500],# 500kg vertically on node 2\n",
    "     [0,-g*500],# 500kg vertically on node 3\n",
    "     [0,-g*500],# 500kg vertically on node 4\n",
    "     ])\n",
    "draw_truss(f=f,delta=50)"
   ]
  },
  {
   "cell_type": "markdown",
   "metadata": {},
   "source": [
    "To work with a more interesting example, we provide a function which creates the\n",
    "structure of a crane.\n",
    "The function takes as arguments the total height and width of the crane,\n",
    "the height `cr` of the top part of the crane, and the\n",
    "maximum length of considered cross bars (1,2,or 3).\n",
    "\n",
    "The function further returns a force vector $F$ (in fact, a $n \\times 2$ matrix), which corresponds to the situation where a force\n",
    "of coordinates (`ff[0],ff[1]`) is applied to the extremity of the crane."
   ]
  },
  {
   "cell_type": "code",
   "execution_count": null,
   "metadata": {
    "collapsed": true
   },
   "outputs": [],
   "source": [
    "def crane_structure(cr=2,height=8,width=8,max_len=2,ff=(-500,-1000)):\n",
    "    nodes = []\n",
    "    for i in range(width):\n",
    "        for j in range(height):\n",
    "            if j>=height-cr-1 or i==2 or i==3:\n",
    "                nodes.append((i,j))\n",
    "\n",
    "    nodes = np.array(nodes) \n",
    "\n",
    "    dofs = np.ones(nodes.shape)\n",
    "    dofs[:,0][nodes[:,1]==0]=0\n",
    "    dofs[:,1][nodes[:,1]==0]=0\n",
    "\n",
    "    n = len(nodes)\n",
    "    bars = []\n",
    "    for i in range(n):\n",
    "        for j in range(n):\n",
    "            if i<j and np.linalg.norm(nodes[i]-nodes[j])<1.5:\n",
    "                bars.append([i,j])\n",
    "            if max_len>=2 and i<j and np.linalg.norm(nodes[i]-nodes[j])==5**0.5:\n",
    "                bars.append([i,j])\n",
    "            if max_len>=3 and i<j and np.linalg.norm(nodes[i]-nodes[j])==10**0.5:\n",
    "                bars.append([i,j])\n",
    "                \n",
    "    F = np.zeros((n,2))\n",
    "    F[n-1-cr,0]=g*ff[0]\n",
    "    F[n-1-cr,1]=g*ff[1]\n",
    "    \n",
    "    return nodes,dofs,bars,F"
   ]
  },
  {
   "cell_type": "markdown",
   "metadata": {},
   "source": [
    "We are going to solve the optimization problem defined at the beginning of this notebook, for $W=50$.\n",
    "The length $L_i$ of the bars is defined in the list `Lbars` below.\n",
    "Let us first have a look at the crane structure, \n",
    "and the displacement for a \"uniform\" solution, where \n",
    "$w_i=\\frac{W}{\\sum_{j=1}^m L_j}$ for all bars."
   ]
  },
  {
   "cell_type": "code",
   "execution_count": null,
   "metadata": {
    "collapsed": false
   },
   "outputs": [],
   "source": [
    "nodes,dofs,bars,F = crane_structure(cr=2,height=10,width=10,max_len=3,ff=(-500,-1000))\n",
    "Lbars = [np.linalg.norm(nodes[i]-nodes[j]) for i,j in bars]\n",
    "n,m = len(nodes),len(bars)\n",
    "dof_mask = np.concatenate(dofs,axis=0)\n",
    "f = F.ravel()[dof_mask==1]   #this projects the force on the coordinates of DoF\n",
    "W = 50.\n",
    "\n",
    "w = [1./sum(Lbars)*W]*m\n",
    "draw_truss(w=w,f=F)"
   ]
  },
  {
   "cell_type": "markdown",
   "metadata": {},
   "source": [
    "<span style=\"color:blue\">\n",
    "In the cell below, you should formulate the optimization problem (minimize the \n",
    "compliance $\\boldsymbol{f}^T K(\\mathbf{w})^{-1} \\boldsymbol{f}$ of the crane,\n",
    "subject to the volume constraint $\\sum_{i} w_i L_i \\leq W$), as an SDP.\n",
    "</span>\n",
    "\n",
    "<span style=\"color:blue\">\n",
    "*Hint:* to add a block-LMI in PICOS, of the form \n",
    "$$\n",
    "\\left(\\begin{array}{cc}\n",
    "A & B\\\\\n",
    "B^T & C\n",
    "\\end{array}\\right) \\succeq 0,\n",
    "$$\n",
    "you can use the following command:\n",
    "\n",
    "``P.add_constraint( ( (A & B) // (B.T & C) ) >> 0)``\n",
    "</span>"
   ]
  },
  {
   "cell_type": "code",
   "execution_count": null,
   "metadata": {
    "collapsed": false
   },
   "outputs": [],
   "source": [
    "n = len(nodes)\n",
    "m = len(bars)\n",
    "LL = picos.new_param('LL',Lbars)\n",
    "f = picos.new_param('f',f/1e6) #divide by 1e6 for the sake of numerical accuracy\n",
    "W = picos.new_param('W',50.)\n",
    "\n",
    "#create the problem\n",
    "P = picos.Problem()\n",
    "\n",
    "#add the variable for the bar widths\n",
    "w = P.add_variable('w',m)\n",
    "#create the stiffness matrix (NB, this is an affine expression w.r.t. `w`)\n",
    "K = stiffness_matrix(w)\n",
    "\n",
    "\n",
    "#constraints on the bar sizes:\n",
    "P.add_constraint(w>=0)\n",
    "P.add_constraint( (w|LL) <= W )\n",
    "\n",
    "\n",
    "#TODO: add other variables, constraints, and set objective...\n",
    "\n",
    "#solve the problem and display the solution\n",
    "#(you can set verbose=True to see the full output of the solver)\n",
    "sol = P.solve(verbose=False)\n",
    "draw_truss(w=w.value,f=F)"
   ]
  },
  {
   "cell_type": "markdown",
   "metadata": {},
   "source": [
    "<span style=\"color:blue\">\n",
    "Now, formulate as an SDP the problem of minimizing the worst case compliance  $f^TK^{−1}f$, over the set of all force vectors $f$ such that $\\Vert f \\Vert_2 \\leq 1$.\n",
    "That is:\n",
    "$$\n",
    "\\underset{\\textbf{w}\\in\\mathbb{R}_+^m}{minimize}\\  \\Big\\{\\ \\sup_{\\mathbf{f}: \\|\\mathbf{f}\\|_2\\leq 1} \\mathbf{f}^T K(\\mathbf{w})^{-1} \\mathbf{f}\\ |\\quad\n",
    "\\sum_{i} w_i L_i \\leq W \\Big\\}\n",
    "$$\n",
    "</span>\n",
    "\n",
    "<span style=\"color:blue\">\n",
    "*Hint:* You should first reformulate the objective function of the problem as something for which you know a semidefinite representation...\n",
    "</span>"
   ]
  },
  {
   "cell_type": "markdown",
   "metadata": {},
   "source": [
    "*TODO* Write the semidefinite representation of the objective function in this cell:\n",
    "\n",
    "(...)\n",
    "    \n",
    "So, $$\\sup_{\\mathbf{f}: \\|\\mathbf{f}\\|_2\\leq 1} \\mathbf{f}^T K(\\mathbf{w})^{-1} \\mathbf{f} \\leq t \\iff (...)$$"
   ]
  },
  {
   "cell_type": "code",
   "execution_count": null,
   "metadata": {
    "collapsed": false
   },
   "outputs": [],
   "source": [
    "#Hint: You will need the identity matrix of size k:\n",
    "I = picos.new_param('I',np.eye(K.size[0]))\n",
    "\n",
    "#create the problem\n",
    "P = picos.Problem()\n",
    "\n",
    "\n",
    "#add the variable for the bar widths\n",
    "w = P.add_variable('w',m)\n",
    "#create the stiffness matrix (NB, this is an affine expression w.r.t. `w`)\n",
    "K = stiffness_matrix(w)\n",
    "\n",
    "#constraints on the bar sizes:\n",
    "P.add_constraint(w>=0)\n",
    "P.add_constraint( (w|LL) <= W )\n",
    "\n",
    "\n",
    "#TODO add other variables, constraints, and objective...\n",
    "\n",
    "\n",
    "#solve the problem (you can set verbose=True to see the full output of the solver)\n",
    "sol = P.solve(verbose=False)\n",
    "#and display the solution\n",
    "draw_truss(w=w.value)"
   ]
  },
  {
   "cell_type": "markdown",
   "metadata": {},
   "source": [
    "<span style=\"color:blue\">\n",
    "A somewhat more realistic load model is that of a force f acting in an unknown direction, but only at the extremity of the crane. More precisely, let $U$ be the $k\\times 2$\n",
    "whose columns are orthonormal and span the subspace of the 2 DoFs of the node at the extremity of the crane. Then, we want to solve\n",
    "$$\n",
    "\\underset{\\textbf{w}\\in\\mathbb{R}_+^m}{minimize}\\  \\Big\\{\\ \\sup_{\\mathbf{f}\\in\\operatorname{Im}(U): \\|\\mathbf{f}\\|_2\\leq 1} \\mathbf{f}^T K(\\mathbf{w})^{-1} \\mathbf{f}\\ |\\quad\n",
    "\\sum_{i} w_i L_i \\leq W \\Big\\}.\n",
    "$$\n",
    "Formulate this problem as an SDP and solve implement it in the next cell.\n",
    "</span>\n",
    "\n",
    "<span style=\"color:blue\">\n",
    "*Hint:* You should first try to find a semidefinite representation of the objective function.\n",
    "</span>\n"
   ]
  },
  {
   "cell_type": "markdown",
   "metadata": {},
   "source": [
    "*TODO* Write the semidefinite representation of the objective function in this cell:\n",
    "\n",
    "(...)\n",
    "    \n",
    "So, $$\\sup_{\\mathbf{f}\\in\\operatorname{Im}(U): \\|\\mathbf{f}\\|_2\\leq 1} \\mathbf{f}^T K(\\mathbf{w})^{-1} \\mathbf{f}\\ \\leq t \\iff (...)$$"
   ]
  },
  {
   "cell_type": "code",
   "execution_count": null,
   "metadata": {
    "collapsed": false
   },
   "outputs": [],
   "source": [
    "#This are the indices of the degrees of freedom at the extremity of the crane\n",
    "i0 = np.where(np.array(f.value)!=0)[0]\n",
    "assert(len(i0)==2) # we check that there are just 2 DoFs\n",
    "\n",
    "# We construct the matrix U\n",
    "k = f.size[0]\n",
    "U = np.zeros((k,2))\n",
    "U[i0[0],0] = 1\n",
    "U[i0[1],1] = 1\n",
    "\n",
    "#You might also need the identity matrix of size 2:\n",
    "I2 = picos.new_param('I2',np.eye(2))\n",
    "U = picos.new_param('U',U)\n",
    "\n",
    "\n",
    "#create the problem\n",
    "P = picos.Problem()\n",
    "\n",
    "\n",
    "#add the variable for the bar widths\n",
    "w = P.add_variable('w',m)\n",
    "#create the stiffness matrix (NB, this is an affine expression w.r.t. `w`)\n",
    "K = stiffness_matrix(w)\n",
    "\n",
    "#constraints on the bar sizes:\n",
    "P.add_constraint(w>=0)\n",
    "P.add_constraint( (w|LL) <= W )\n",
    "\n",
    "\n",
    "#TODO add other variables, constraints, and objective...\n",
    "\n",
    "#Solve the problem and display the solution \n",
    "#(leave the option solve_via_dual=False, otherwise you will run into numerical issues...)\n",
    "sol = P.solve(verbose=True,solve_via_dual=False)\n",
    "draw_truss(w=w.value)"
   ]
  }
 ],
 "metadata": {
  "kernelspec": {
   "display_name": "Python 2",
   "language": "python",
   "name": "python2"
  },
  "language_info": {
   "codemirror_mode": {
    "name": "ipython",
    "version": 2
   },
   "file_extension": ".py",
   "mimetype": "text/x-python",
   "name": "python",
   "nbconvert_exporter": "python",
   "pygments_lexer": "ipython2",
   "version": "2.7.13"
  }
 },
 "nbformat": 4,
 "nbformat_minor": 1
}
